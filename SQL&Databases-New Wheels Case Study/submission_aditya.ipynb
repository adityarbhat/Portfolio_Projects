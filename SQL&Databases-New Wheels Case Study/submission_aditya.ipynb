{
 "cells": [
  {
   "cell_type": "code",
   "execution_count": 2,
   "id": "99bc49b4-3c83-4758-b973-e9126826e9d0",
   "metadata": {},
   "outputs": [],
   "source": [
    "# import libraries for data manipulation\n",
    "import numpy as np\n",
    "import pandas as pd\n",
    "\n",
    "# import libraries for data visualization\n",
    "import matplotlib.pyplot as plt\n",
    "import seaborn as sns\n",
    "\n",
    "#to suppress any warnings\n",
    "import warnings\n",
    "warnings.filterwarnings('ignore')"
   ]
  },
  {
   "cell_type": "markdown",
   "id": "a57f7208-4728-4c89-9129-cc12d059b9b4",
   "metadata": {},
   "source": [
    "### Question 1"
   ]
  },
  {
   "cell_type": "code",
   "execution_count": 141,
   "id": "2bbaac24-4188-4390-92dd-6ccc7c29d644",
   "metadata": {},
   "outputs": [
    {
     "data": {
      "text/html": [
       "<div>\n",
       "<style scoped>\n",
       "    .dataframe tbody tr th:only-of-type {\n",
       "        vertical-align: middle;\n",
       "    }\n",
       "\n",
       "    .dataframe tbody tr th {\n",
       "        vertical-align: top;\n",
       "    }\n",
       "\n",
       "    .dataframe thead th {\n",
       "        text-align: right;\n",
       "    }\n",
       "</style>\n",
       "<table border=\"1\" class=\"dataframe\">\n",
       "  <thead>\n",
       "    <tr style=\"text-align: right;\">\n",
       "      <th></th>\n",
       "      <th>CUST_PER_STATE</th>\n",
       "      <th>STATE</th>\n",
       "    </tr>\n",
       "  </thead>\n",
       "  <tbody>\n",
       "    <tr>\n",
       "      <th>0</th>\n",
       "      <td>98</td>\n",
       "      <td>Texas</td>\n",
       "    </tr>\n",
       "    <tr>\n",
       "      <th>1</th>\n",
       "      <td>97</td>\n",
       "      <td>California</td>\n",
       "    </tr>\n",
       "    <tr>\n",
       "      <th>2</th>\n",
       "      <td>86</td>\n",
       "      <td>Florida</td>\n",
       "    </tr>\n",
       "    <tr>\n",
       "      <th>3</th>\n",
       "      <td>69</td>\n",
       "      <td>New York</td>\n",
       "    </tr>\n",
       "    <tr>\n",
       "      <th>4</th>\n",
       "      <td>35</td>\n",
       "      <td>District of Columbia</td>\n",
       "    </tr>\n",
       "  </tbody>\n",
       "</table>\n",
       "</div>"
      ],
      "text/plain": [
       "   CUST_PER_STATE                 STATE\n",
       "0              98                 Texas\n",
       "1              97            California\n",
       "2              86               Florida\n",
       "3              69              New York\n",
       "4              35  District of Columbia"
      ]
     },
     "execution_count": 141,
     "metadata": {},
     "output_type": "execute_result"
    }
   ],
   "source": [
    "#importing dataset for question 1\n",
    "query1_df=pd.read_csv('/Users/adityaravindrabhat/Desktop/PGP_UTAustin/SQL/Project/Query_Datasets/query1.csv')\n",
    "query1_df.head()"
   ]
  },
  {
   "cell_type": "code",
   "execution_count": 143,
   "id": "1dfb65f0-b28a-48c5-9b89-3657180d310a",
   "metadata": {},
   "outputs": [
    {
     "data": {
      "text/plain": [
       "1000"
      ]
     },
     "execution_count": 143,
     "metadata": {},
     "output_type": "execute_result"
    }
   ],
   "source": [
    "#Getting the total number of customers\n",
    "sum(query1_df['CUST_PER_STATE'])"
   ]
  },
  {
   "cell_type": "code",
   "execution_count": 129,
   "id": "6327be11-6cf7-4a91-837a-024cea29631f",
   "metadata": {},
   "outputs": [
    {
     "data": {
      "image/png": "[encoded data removed]",
      "text/plain": [
       "<Figure size 432x288 with 1 Axes>"
      ]
     },
     "metadata": {
      "needs_background": "light"
     },
     "output_type": "display_data"
    }
   ],
   "source": [
    "#histogram to visualize customers across states\n",
    "sns.barplot(data=query1_df, x='STATE',y='CUST_PER_STATE')\n",
    "plt.xlabel(\"States\")\n",
    "plt.ylabel('No of Customers in Top 5 States')\n",
    "plt.xticks(rotation=90);"
   ]
  },
  {
   "cell_type": "markdown",
   "id": "2c83db26-824d-495c-bbb1-36fb66fc6f81",
   "metadata": {},
   "source": [
    "### Question 2"
   ]
  },
  {
   "cell_type": "code",
   "execution_count": 11,
   "id": "19ae00c0-f145-42b6-b8d4-c4a4134500ea",
   "metadata": {},
   "outputs": [
    {
     "data": {
      "text/html": [
       "<div>\n",
       "<style scoped>\n",
       "    .dataframe tbody tr th:only-of-type {\n",
       "        vertical-align: middle;\n",
       "    }\n",
       "\n",
       "    .dataframe tbody tr th {\n",
       "        vertical-align: top;\n",
       "    }\n",
       "\n",
       "    .dataframe thead th {\n",
       "        text-align: right;\n",
       "    }\n",
       "</style>\n",
       "<table border=\"1\" class=\"dataframe\">\n",
       "  <thead>\n",
       "    <tr style=\"text-align: right;\">\n",
       "      <th></th>\n",
       "      <th>QUARTER_NUMBER</th>\n",
       "      <th>QUARTERLY_RATING</th>\n",
       "    </tr>\n",
       "  </thead>\n",
       "  <tbody>\n",
       "    <tr>\n",
       "      <th>0</th>\n",
       "      <td>1</td>\n",
       "      <td>3.5548</td>\n",
       "    </tr>\n",
       "    <tr>\n",
       "      <th>1</th>\n",
       "      <td>2</td>\n",
       "      <td>3.3550</td>\n",
       "    </tr>\n",
       "    <tr>\n",
       "      <th>2</th>\n",
       "      <td>3</td>\n",
       "      <td>2.9563</td>\n",
       "    </tr>\n",
       "    <tr>\n",
       "      <th>3</th>\n",
       "      <td>4</td>\n",
       "      <td>2.3970</td>\n",
       "    </tr>\n",
       "  </tbody>\n",
       "</table>\n",
       "</div>"
      ],
      "text/plain": [
       "   QUARTER_NUMBER  QUARTERLY_RATING\n",
       "0               1            3.5548\n",
       "1               2            3.3550\n",
       "2               3            2.9563\n",
       "3               4            2.3970"
      ]
     },
     "execution_count": 11,
     "metadata": {},
     "output_type": "execute_result"
    }
   ],
   "source": [
    "#importing dataset for question 2\n",
    "query2_df=pd.read_csv('/Users/adityaravindrabhat/Desktop/PGP_UTAustin/SQL/Project/Query_Datasets/query2.csv')\n",
    "query2_df.head()"
   ]
  },
  {
   "cell_type": "code",
   "execution_count": 121,
   "id": "3bd1a9ff-75b7-4645-a510-8993f1a9362c",
   "metadata": {},
   "outputs": [
    {
     "data": {
      "text/plain": [
       "3.0657750000000004"
      ]
     },
     "execution_count": 121,
     "metadata": {},
     "output_type": "execute_result"
    }
   ],
   "source": [
    "#Calculating the average ratings across quarters\n",
    "sum(query2_df['QUARTERLY_RATING'])/4"
   ]
  },
  {
   "cell_type": "code",
   "execution_count": 130,
   "id": "0eb629d8-a110-42bf-ae46-b0de64d70a45",
   "metadata": {},
   "outputs": [
    {
     "data": {
      "image/png": "[encoded data removed]",
      "text/plain": [
       "<Figure size 360x360 with 1 Axes>"
      ]
     },
     "metadata": {
      "needs_background": "light"
     },
     "output_type": "display_data"
    }
   ],
   "source": [
    "# barplot to visualize the average rating in each quarter\n",
    "sns.catplot(data=query2_df, x='QUARTER_NUMBER', y='QUARTERLY_RATING',kind='bar')\n",
    "plt.xlabel('Quarter Number')\n",
    "plt.ylabel('Average Quarterly Ratings');"
   ]
  },
  {
   "cell_type": "markdown",
   "id": "61d963fe-dd9a-4594-94a1-55d055ac520f",
   "metadata": {},
   "source": [
    "### Question 3 "
   ]
  },
  {
   "cell_type": "code",
   "execution_count": 125,
   "id": "9533d0c1-9fac-4672-af02-e6996170406c",
   "metadata": {},
   "outputs": [
    {
     "data": {
      "text/html": [
       "<div>\n",
       "<style scoped>\n",
       "    .dataframe tbody tr th:only-of-type {\n",
       "        vertical-align: middle;\n",
       "    }\n",
       "\n",
       "    .dataframe tbody tr th {\n",
       "        vertical-align: top;\n",
       "    }\n",
       "\n",
       "    .dataframe thead th {\n",
       "        text-align: right;\n",
       "    }\n",
       "</style>\n",
       "<table border=\"1\" class=\"dataframe\">\n",
       "  <thead>\n",
       "    <tr style=\"text-align: right;\">\n",
       "      <th></th>\n",
       "      <th>CUSTOMER_FEEDBACK</th>\n",
       "      <th>FEEDBACK_PER_CATEGORY</th>\n",
       "      <th>QUARTER_NUMBER</th>\n",
       "      <th>NO_FEEDBACK_QUARTER</th>\n",
       "      <th>FEEDBACK_PERCENTAGE</th>\n",
       "    </tr>\n",
       "  </thead>\n",
       "  <tbody>\n",
       "    <tr>\n",
       "      <th>15</th>\n",
       "      <td>Bad</td>\n",
       "      <td>58</td>\n",
       "      <td>4</td>\n",
       "      <td>199</td>\n",
       "      <td>29.15</td>\n",
       "    </tr>\n",
       "    <tr>\n",
       "      <th>16</th>\n",
       "      <td>Good</td>\n",
       "      <td>20</td>\n",
       "      <td>4</td>\n",
       "      <td>199</td>\n",
       "      <td>10.05</td>\n",
       "    </tr>\n",
       "    <tr>\n",
       "      <th>17</th>\n",
       "      <td>Okay</td>\n",
       "      <td>40</td>\n",
       "      <td>4</td>\n",
       "      <td>199</td>\n",
       "      <td>20.10</td>\n",
       "    </tr>\n",
       "    <tr>\n",
       "      <th>18</th>\n",
       "      <td>Very Bad</td>\n",
       "      <td>61</td>\n",
       "      <td>4</td>\n",
       "      <td>199</td>\n",
       "      <td>30.65</td>\n",
       "    </tr>\n",
       "    <tr>\n",
       "      <th>19</th>\n",
       "      <td>Very Good</td>\n",
       "      <td>20</td>\n",
       "      <td>4</td>\n",
       "      <td>199</td>\n",
       "      <td>10.05</td>\n",
       "    </tr>\n",
       "  </tbody>\n",
       "</table>\n",
       "</div>"
      ],
      "text/plain": [
       "   CUSTOMER_FEEDBACK  FEEDBACK_PER_CATEGORY  QUARTER_NUMBER  \\\n",
       "15               Bad                     58               4   \n",
       "16              Good                     20               4   \n",
       "17              Okay                     40               4   \n",
       "18          Very Bad                     61               4   \n",
       "19         Very Good                     20               4   \n",
       "\n",
       "    NO_FEEDBACK_QUARTER  FEEDBACK_PERCENTAGE  \n",
       "15                  199                29.15  \n",
       "16                  199                10.05  \n",
       "17                  199                20.10  \n",
       "18                  199                30.65  \n",
       "19                  199                10.05  "
      ]
     },
     "execution_count": 125,
     "metadata": {},
     "output_type": "execute_result"
    }
   ],
   "source": [
    "#importing dataset for question 3\n",
    "query3_df=pd.read_csv('/Users/adityaravindrabhat/Desktop/PGP_UTAustin/SQL/Project/Query_Datasets/query3.csv')\n",
    "query3_df.tail()"
   ]
  },
  {
   "cell_type": "code",
   "execution_count": 138,
   "id": "a71e7f4e-c81a-46be-b413-b368ac5090b8",
   "metadata": {},
   "outputs": [
    {
     "data": {
      "image/png": "[encoded data removed]",
      "text/plain": [
       "<Figure size 432x288 with 1 Axes>"
      ]
     },
     "metadata": {
      "needs_background": "light"
     },
     "output_type": "display_data"
    }
   ],
   "source": [
    "#stacked barplot to to visualize the percentage of customer feedback in each quarter\n",
    "sns.barplot(data=query3_df,x='QUARTER_NUMBER', y='FEEDBACK_PERCENTAGE',hue='CUSTOMER_FEEDBACK')\n",
    "plt.xlabel('Quarter Number')\n",
    "plt.ylabel('Feedback Percentage')\n",
    "plt.legend(bbox_to_anchor=(1.05, 1), loc=2, borderaxespad=0.);"
   ]
  },
  {
   "cell_type": "markdown",
   "id": "f4b21330-b966-46c8-a3ab-eae07879d66c",
   "metadata": {},
   "source": [
    "### Question 4"
   ]
  },
  {
   "cell_type": "code",
   "execution_count": 24,
   "id": "c00bc990-1d94-42e3-9716-5a837f3e6b4a",
   "metadata": {},
   "outputs": [
    {
     "data": {
      "text/html": [
       "<div>\n",
       "<style scoped>\n",
       "    .dataframe tbody tr th:only-of-type {\n",
       "        vertical-align: middle;\n",
       "    }\n",
       "\n",
       "    .dataframe tbody tr th {\n",
       "        vertical-align: top;\n",
       "    }\n",
       "\n",
       "    .dataframe thead th {\n",
       "        text-align: right;\n",
       "    }\n",
       "</style>\n",
       "<table border=\"1\" class=\"dataframe\">\n",
       "  <thead>\n",
       "    <tr style=\"text-align: right;\">\n",
       "      <th></th>\n",
       "      <th>VEHICLE_MAKER</th>\n",
       "      <th>CUST_COUNT_BY_MAKER</th>\n",
       "    </tr>\n",
       "  </thead>\n",
       "  <tbody>\n",
       "    <tr>\n",
       "      <th>0</th>\n",
       "      <td>Chevrolet</td>\n",
       "      <td>83</td>\n",
       "    </tr>\n",
       "    <tr>\n",
       "      <th>1</th>\n",
       "      <td>Ford</td>\n",
       "      <td>63</td>\n",
       "    </tr>\n",
       "    <tr>\n",
       "      <th>2</th>\n",
       "      <td>Toyota</td>\n",
       "      <td>52</td>\n",
       "    </tr>\n",
       "    <tr>\n",
       "      <th>3</th>\n",
       "      <td>Pontiac</td>\n",
       "      <td>50</td>\n",
       "    </tr>\n",
       "    <tr>\n",
       "      <th>4</th>\n",
       "      <td>Dodge</td>\n",
       "      <td>50</td>\n",
       "    </tr>\n",
       "  </tbody>\n",
       "</table>\n",
       "</div>"
      ],
      "text/plain": [
       "  VEHICLE_MAKER  CUST_COUNT_BY_MAKER\n",
       "0     Chevrolet                   83\n",
       "1          Ford                   63\n",
       "2        Toyota                   52\n",
       "3       Pontiac                   50\n",
       "4         Dodge                   50"
      ]
     },
     "execution_count": 24,
     "metadata": {},
     "output_type": "execute_result"
    }
   ],
   "source": [
    "#importing dataset for question 4\n",
    "query4_df=pd.read_csv('/Users/adityaravindrabhat/Desktop/PGP_UTAustin/SQL/Project/Query_Datasets/query4.csv')\n",
    "query4_df.head()"
   ]
  },
  {
   "cell_type": "code",
   "execution_count": 144,
   "id": "efef97a3-58a0-46c1-b776-404af1ce1519",
   "metadata": {},
   "outputs": [
    {
     "data": {
      "text/plain": [
       "<Figure size 1080x504 with 0 Axes>"
      ]
     },
     "metadata": {},
     "output_type": "display_data"
    },
    {
     "data": {
      "image/png": "[encoded data removed]",
      "text/plain": [
       "<Figure size 360x360 with 1 Axes>"
      ]
     },
     "metadata": {
      "needs_background": "light"
     },
     "output_type": "display_data"
    }
   ],
   "source": [
    "# barplot to visualize the customer count for top 5 vehcicle makers\n",
    "plt.figure(figsize = (15,7))\n",
    "sns.catplot(data=query4_df, x='VEHICLE_MAKER', y='CUST_COUNT_BY_MAKER',kind='bar')\n",
    "plt.ylabel(\"No of Customers\")\n",
    "plt.xlabel('TOP 5 Vehcile Makers')\n",
    "plt.xticks(rotation=90);"
   ]
  },
  {
   "cell_type": "markdown",
   "id": "35440240-57ea-4dc9-aea6-7d66e4430ba7",
   "metadata": {},
   "source": [
    "### Question 5"
   ]
  },
  {
   "cell_type": "code",
   "execution_count": 5,
   "id": "374f1f47-7de2-45c1-82f4-7fce62c86c82",
   "metadata": {},
   "outputs": [
    {
     "data": {
      "text/html": [
       "<div>\n",
       "<style scoped>\n",
       "    .dataframe tbody tr th:only-of-type {\n",
       "        vertical-align: middle;\n",
       "    }\n",
       "\n",
       "    .dataframe tbody tr th {\n",
       "        vertical-align: top;\n",
       "    }\n",
       "\n",
       "    .dataframe thead th {\n",
       "        text-align: right;\n",
       "    }\n",
       "</style>\n",
       "<table border=\"1\" class=\"dataframe\">\n",
       "  <thead>\n",
       "    <tr style=\"text-align: right;\">\n",
       "      <th></th>\n",
       "      <th>STATE</th>\n",
       "      <th>VEHICLE_MAKER</th>\n",
       "      <th>CUST_COUNT</th>\n",
       "      <th>RNK</th>\n",
       "    </tr>\n",
       "  </thead>\n",
       "  <tbody>\n",
       "    <tr>\n",
       "      <th>0</th>\n",
       "      <td>Texas</td>\n",
       "      <td>Chevrolet</td>\n",
       "      <td>9</td>\n",
       "      <td>1</td>\n",
       "    </tr>\n",
       "    <tr>\n",
       "      <th>1</th>\n",
       "      <td>Florida</td>\n",
       "      <td>Toyota</td>\n",
       "      <td>7</td>\n",
       "      <td>1</td>\n",
       "    </tr>\n",
       "    <tr>\n",
       "      <th>2</th>\n",
       "      <td>California</td>\n",
       "      <td>Nissan</td>\n",
       "      <td>6</td>\n",
       "      <td>1</td>\n",
       "    </tr>\n",
       "    <tr>\n",
       "      <th>3</th>\n",
       "      <td>California</td>\n",
       "      <td>Ford</td>\n",
       "      <td>6</td>\n",
       "      <td>1</td>\n",
       "    </tr>\n",
       "    <tr>\n",
       "      <th>4</th>\n",
       "      <td>California</td>\n",
       "      <td>Chevrolet</td>\n",
       "      <td>6</td>\n",
       "      <td>1</td>\n",
       "    </tr>\n",
       "    <tr>\n",
       "      <th>5</th>\n",
       "      <td>California</td>\n",
       "      <td>Dodge</td>\n",
       "      <td>6</td>\n",
       "      <td>1</td>\n",
       "    </tr>\n",
       "    <tr>\n",
       "      <th>6</th>\n",
       "      <td>California</td>\n",
       "      <td>Audi</td>\n",
       "      <td>6</td>\n",
       "      <td>1</td>\n",
       "    </tr>\n",
       "    <tr>\n",
       "      <th>7</th>\n",
       "      <td>Ohio</td>\n",
       "      <td>Chevrolet</td>\n",
       "      <td>6</td>\n",
       "      <td>1</td>\n",
       "    </tr>\n",
       "    <tr>\n",
       "      <th>8</th>\n",
       "      <td>Alabama</td>\n",
       "      <td>Dodge</td>\n",
       "      <td>5</td>\n",
       "      <td>1</td>\n",
       "    </tr>\n",
       "    <tr>\n",
       "      <th>9</th>\n",
       "      <td>Colorado</td>\n",
       "      <td>Chevrolet</td>\n",
       "      <td>5</td>\n",
       "      <td>1</td>\n",
       "    </tr>\n",
       "    <tr>\n",
       "      <th>10</th>\n",
       "      <td>Maryland</td>\n",
       "      <td>Ford</td>\n",
       "      <td>5</td>\n",
       "      <td>1</td>\n",
       "    </tr>\n",
       "    <tr>\n",
       "      <th>11</th>\n",
       "      <td>New York</td>\n",
       "      <td>Toyota</td>\n",
       "      <td>5</td>\n",
       "      <td>1</td>\n",
       "    </tr>\n",
       "    <tr>\n",
       "      <th>12</th>\n",
       "      <td>New York</td>\n",
       "      <td>Pontiac</td>\n",
       "      <td>5</td>\n",
       "      <td>1</td>\n",
       "    </tr>\n",
       "    <tr>\n",
       "      <th>13</th>\n",
       "      <td>Virginia</td>\n",
       "      <td>Ford</td>\n",
       "      <td>5</td>\n",
       "      <td>1</td>\n",
       "    </tr>\n",
       "    <tr>\n",
       "      <th>14</th>\n",
       "      <td>Washington</td>\n",
       "      <td>Chevrolet</td>\n",
       "      <td>5</td>\n",
       "      <td>1</td>\n",
       "    </tr>\n",
       "  </tbody>\n",
       "</table>\n",
       "</div>"
      ],
      "text/plain": [
       "         STATE VEHICLE_MAKER  CUST_COUNT  RNK\n",
       "0        Texas     Chevrolet           9    1\n",
       "1      Florida        Toyota           7    1\n",
       "2   California        Nissan           6    1\n",
       "3   California          Ford           6    1\n",
       "4   California     Chevrolet           6    1\n",
       "5   California         Dodge           6    1\n",
       "6   California          Audi           6    1\n",
       "7         Ohio     Chevrolet           6    1\n",
       "8      Alabama         Dodge           5    1\n",
       "9     Colorado     Chevrolet           5    1\n",
       "10    Maryland          Ford           5    1\n",
       "11    New York        Toyota           5    1\n",
       "12    New York       Pontiac           5    1\n",
       "13    Virginia          Ford           5    1\n",
       "14  Washington     Chevrolet           5    1"
      ]
     },
     "execution_count": 5,
     "metadata": {},
     "output_type": "execute_result"
    }
   ],
   "source": [
    "#importing dataset for question 5 and plotting the table for top 10 states and their preferred manufacturers\n",
    "query5_df=pd.read_csv('/Users/adityaravindrabhat/Desktop/PGP_UTAustin/SQL/Project/Query_Datasets/query5.csv')\n",
    "query5_df.duplicated(subset=['STATE'],keep='first')\n",
    "query5_df.head(15)"
   ]
  },
  {
   "cell_type": "markdown",
   "id": "27d54372-466f-4c1b-bb39-901c3c1ae67b",
   "metadata": {},
   "source": [
    "### Question 6"
   ]
  },
  {
   "cell_type": "code",
   "execution_count": 26,
   "id": "132c309a-8e52-4520-ac09-10c16ecfebf0",
   "metadata": {},
   "outputs": [
    {
     "data": {
      "text/html": [
       "<div>\n",
       "<style scoped>\n",
       "    .dataframe tbody tr th:only-of-type {\n",
       "        vertical-align: middle;\n",
       "    }\n",
       "\n",
       "    .dataframe tbody tr th {\n",
       "        vertical-align: top;\n",
       "    }\n",
       "\n",
       "    .dataframe thead th {\n",
       "        text-align: right;\n",
       "    }\n",
       "</style>\n",
       "<table border=\"1\" class=\"dataframe\">\n",
       "  <thead>\n",
       "    <tr style=\"text-align: right;\">\n",
       "      <th></th>\n",
       "      <th>NO_OF_ORDERS</th>\n",
       "      <th>QUARTER_NUMBER</th>\n",
       "    </tr>\n",
       "  </thead>\n",
       "  <tbody>\n",
       "    <tr>\n",
       "      <th>0</th>\n",
       "      <td>310</td>\n",
       "      <td>1</td>\n",
       "    </tr>\n",
       "    <tr>\n",
       "      <th>1</th>\n",
       "      <td>262</td>\n",
       "      <td>2</td>\n",
       "    </tr>\n",
       "    <tr>\n",
       "      <th>2</th>\n",
       "      <td>229</td>\n",
       "      <td>3</td>\n",
       "    </tr>\n",
       "    <tr>\n",
       "      <th>3</th>\n",
       "      <td>199</td>\n",
       "      <td>4</td>\n",
       "    </tr>\n",
       "  </tbody>\n",
       "</table>\n",
       "</div>"
      ],
      "text/plain": [
       "   NO_OF_ORDERS  QUARTER_NUMBER\n",
       "0           310               1\n",
       "1           262               2\n",
       "2           229               3\n",
       "3           199               4"
      ]
     },
     "execution_count": 26,
     "metadata": {},
     "output_type": "execute_result"
    }
   ],
   "source": [
    "#importing dataset for question 6\n",
    "query6_df=pd.read_csv('/Users/adityaravindrabhat/Desktop/PGP_UTAustin/SQL/Project/Query_Datasets/query6.csv')\n",
    "query6_df.head()"
   ]
  },
  {
   "cell_type": "code",
   "execution_count": 123,
   "id": "0aa17ca2-cf00-4498-8a87-cc650c9c84e1",
   "metadata": {},
   "outputs": [
    {
     "data": {
      "text/plain": [
       "1000"
      ]
     },
     "execution_count": 123,
     "metadata": {},
     "output_type": "execute_result"
    }
   ],
   "source": [
    "#calculating total number of orders across all quarters\n",
    "sum(query6_df['NO_OF_ORDERS'])"
   ]
  },
  {
   "cell_type": "code",
   "execution_count": 58,
   "id": "f1652451-c131-40a5-9c34-1ce5ec1fc2e7",
   "metadata": {},
   "outputs": [
    {
     "data": {
      "image/png": "[encoded data removed]",
      "text/plain": [
       "<Figure size 360x360 with 1 Axes>"
      ]
     },
     "metadata": {
      "needs_background": "light"
     },
     "output_type": "display_data"
    }
   ],
   "source": [
    "#catplot to visualize the no of orders in each quarter\n",
    "sns.catplot(data=query6_df, y='NO_OF_ORDERS',x='QUARTER_NUMBER',kind='point');\n",
    "plt.xlabel('Quarter Number')\n",
    "plt.ylabel('No of Orders');"
   ]
  },
  {
   "cell_type": "markdown",
   "id": "20a6d9bc-cd69-4bf3-b365-6ce78d05f796",
   "metadata": {},
   "source": [
    "### Question 7"
   ]
  },
  {
   "cell_type": "code",
   "execution_count": 29,
   "id": "12e829c6-2dcb-4509-ab5c-6abc4a2c6cac",
   "metadata": {},
   "outputs": [
    {
     "data": {
      "text/html": [
       "<div>\n",
       "<style scoped>\n",
       "    .dataframe tbody tr th:only-of-type {\n",
       "        vertical-align: middle;\n",
       "    }\n",
       "\n",
       "    .dataframe tbody tr th {\n",
       "        vertical-align: top;\n",
       "    }\n",
       "\n",
       "    .dataframe thead th {\n",
       "        text-align: right;\n",
       "    }\n",
       "</style>\n",
       "<table border=\"1\" class=\"dataframe\">\n",
       "  <thead>\n",
       "    <tr style=\"text-align: right;\">\n",
       "      <th></th>\n",
       "      <th>QUARTER_NUMBER</th>\n",
       "      <th>REVENUE</th>\n",
       "      <th>PREVIOUS_QUARTER_REVENUE</th>\n",
       "      <th>QTR_OVER_QTR_REVENUE</th>\n",
       "    </tr>\n",
       "  </thead>\n",
       "  <tbody>\n",
       "    <tr>\n",
       "      <th>0</th>\n",
       "      <td>1</td>\n",
       "      <td>18032557</td>\n",
       "      <td>NaN</td>\n",
       "      <td>NaN</td>\n",
       "    </tr>\n",
       "    <tr>\n",
       "      <th>1</th>\n",
       "      <td>2</td>\n",
       "      <td>13122993</td>\n",
       "      <td>18032557.0</td>\n",
       "      <td>-27.2261</td>\n",
       "    </tr>\n",
       "    <tr>\n",
       "      <th>2</th>\n",
       "      <td>3</td>\n",
       "      <td>8882295</td>\n",
       "      <td>13122993.0</td>\n",
       "      <td>-32.3150</td>\n",
       "    </tr>\n",
       "    <tr>\n",
       "      <th>3</th>\n",
       "      <td>4</td>\n",
       "      <td>8573154</td>\n",
       "      <td>8882295.0</td>\n",
       "      <td>-3.4804</td>\n",
       "    </tr>\n",
       "  </tbody>\n",
       "</table>\n",
       "</div>"
      ],
      "text/plain": [
       "   QUARTER_NUMBER   REVENUE  PREVIOUS_QUARTER_REVENUE  QTR_OVER_QTR_REVENUE\n",
       "0               1  18032557                       NaN                   NaN\n",
       "1               2  13122993                18032557.0              -27.2261\n",
       "2               3   8882295                13122993.0              -32.3150\n",
       "3               4   8573154                 8882295.0               -3.4804"
      ]
     },
     "execution_count": 29,
     "metadata": {},
     "output_type": "execute_result"
    }
   ],
   "source": [
    "#importing dataset for question 7\n",
    "query7_df=pd.read_csv('/Users/adityaravindrabhat/Desktop/PGP_UTAustin/SQL/Project/Query_Datasets/query7.csv')\n",
    "query7_df.head()"
   ]
  },
  {
   "cell_type": "code",
   "execution_count": 124,
   "id": "8fd38fce-0aa3-4f1c-ad51-a9efe97dcd4e",
   "metadata": {},
   "outputs": [
    {
     "data": {
      "text/plain": [
       "48610999"
      ]
     },
     "execution_count": 124,
     "metadata": {},
     "output_type": "execute_result"
    }
   ],
   "source": [
    "#calculating total revenue from orders across all quarters\n",
    "sum(query7_df['REVENUE'])"
   ]
  },
  {
   "cell_type": "code",
   "execution_count": 147,
   "id": "959b5bc5-b96b-4128-87af-ca5fde340aa1",
   "metadata": {},
   "outputs": [
    {
     "data": {
      "text/plain": [
       "<Figure size 1080x504 with 0 Axes>"
      ]
     },
     "metadata": {},
     "output_type": "display_data"
    },
    {
     "data": {
      "image/png": "[encoded data removed]",
      "text/plain": [
       "<Figure size 360x360 with 1 Axes>"
      ]
     },
     "metadata": {
      "needs_background": "light"
     },
     "output_type": "display_data"
    }
   ],
   "source": [
    "#catplot to visualize QoQ revenue across every quarter\n",
    "plt.figure(figsize = (15,7))\n",
    "sns.catplot(data = query7_df , x = 'QUARTER_NUMBER' , y = 'REVENUE', kind='point')\n",
    "plt.ylabel('Revenue change QoQ');"
   ]
  },
  {
   "cell_type": "markdown",
   "id": "a5847ca8-abbb-4d33-ad32-521515e5e768",
   "metadata": {},
   "source": [
    "### Question 8"
   ]
  },
  {
   "cell_type": "code",
   "execution_count": 108,
   "id": "f9d011c4-726f-4cb4-96f7-26e14fe775e7",
   "metadata": {},
   "outputs": [
    {
     "data": {
      "text/html": [
       "<div>\n",
       "<style scoped>\n",
       "    .dataframe tbody tr th:only-of-type {\n",
       "        vertical-align: middle;\n",
       "    }\n",
       "\n",
       "    .dataframe tbody tr th {\n",
       "        vertical-align: top;\n",
       "    }\n",
       "\n",
       "    .dataframe thead th {\n",
       "        text-align: right;\n",
       "    }\n",
       "</style>\n",
       "<table border=\"1\" class=\"dataframe\">\n",
       "  <thead>\n",
       "    <tr style=\"text-align: right;\">\n",
       "      <th></th>\n",
       "      <th>QUARTER_NUMBER</th>\n",
       "      <th>TOTAL_REVENUE</th>\n",
       "      <th>NO_OF_ORDERS</th>\n",
       "    </tr>\n",
       "  </thead>\n",
       "  <tbody>\n",
       "    <tr>\n",
       "      <th>0</th>\n",
       "      <td>1</td>\n",
       "      <td>18032557</td>\n",
       "      <td>310</td>\n",
       "    </tr>\n",
       "    <tr>\n",
       "      <th>1</th>\n",
       "      <td>2</td>\n",
       "      <td>13122993</td>\n",
       "      <td>262</td>\n",
       "    </tr>\n",
       "    <tr>\n",
       "      <th>2</th>\n",
       "      <td>3</td>\n",
       "      <td>8882295</td>\n",
       "      <td>229</td>\n",
       "    </tr>\n",
       "    <tr>\n",
       "      <th>3</th>\n",
       "      <td>4</td>\n",
       "      <td>8573154</td>\n",
       "      <td>199</td>\n",
       "    </tr>\n",
       "  </tbody>\n",
       "</table>\n",
       "</div>"
      ],
      "text/plain": [
       "   QUARTER_NUMBER  TOTAL_REVENUE  NO_OF_ORDERS\n",
       "0               1       18032557           310\n",
       "1               2       13122993           262\n",
       "2               3        8882295           229\n",
       "3               4        8573154           199"
      ]
     },
     "execution_count": 108,
     "metadata": {},
     "output_type": "execute_result"
    }
   ],
   "source": [
    "#importing dataset for question 8\n",
    "query8_df=pd.read_csv('/Users/adityaravindrabhat/Desktop/PGP_UTAustin/SQL/Project/Query_Datasets/query8.csv')\n",
    "query8_df.head()"
   ]
  },
  {
   "cell_type": "code",
   "execution_count": 155,
   "id": "ea9efe0c-99ae-43c4-a2d4-feb6b9f37395",
   "metadata": {},
   "outputs": [
    {
     "data": {
      "image/png": "[encoded data removed]",
      "text/plain": [
       "<Figure size 432x288 with 2 Axes>"
      ]
     },
     "metadata": {
      "needs_background": "light"
     },
     "output_type": "display_data"
    }
   ],
   "source": [
    "#setting up subplots to plot a dual axis plot\n",
    "fig, ax1 = plt.subplots()\n",
    "\n",
    "# first lineplot to see the change in revenue across quarters\n",
    "ax1 = sns.lineplot(\n",
    "    x='QUARTER_NUMBER', \n",
    "    y='TOTAL_REVENUE', \n",
    "    data=query8_df, \n",
    "    sort=True, \n",
    "    color='blue'\n",
    ")\n",
    "ax1.set_ylabel('Total Revenue')\n",
    "ax1.set_xlabel('Quarter Number')\n",
    "# setting up the 2nd axis\n",
    "ax2 = ax1.twinx()\n",
    "\n",
    "#second line plot to see the change in no of orders across quarters\n",
    "ax2 = sns.lineplot(\n",
    "    x='QUARTER_NUMBER', \n",
    "    y='NO_OF_ORDERS', \n",
    "    data=query8_df, \n",
    "    sort=True, \n",
    "    color='red',\n",
    "    ax=ax2\n",
    ")\n",
    "ax2.set_ylabel('No Of Orders')\n",
    "plt.show()"
   ]
  },
  {
   "cell_type": "markdown",
   "id": "feaa2f09-d2b6-42b5-9bb2-58497536924a",
   "metadata": {},
   "source": [
    "### Question 9"
   ]
  },
  {
   "cell_type": "code",
   "execution_count": 165,
   "id": "a5629c47-d49f-4d11-8324-1864abda367b",
   "metadata": {},
   "outputs": [
    {
     "data": {
      "text/html": [
       "<div>\n",
       "<style scoped>\n",
       "    .dataframe tbody tr th:only-of-type {\n",
       "        vertical-align: middle;\n",
       "    }\n",
       "\n",
       "    .dataframe tbody tr th {\n",
       "        vertical-align: top;\n",
       "    }\n",
       "\n",
       "    .dataframe thead th {\n",
       "        text-align: right;\n",
       "    }\n",
       "</style>\n",
       "<table border=\"1\" class=\"dataframe\">\n",
       "  <thead>\n",
       "    <tr style=\"text-align: right;\">\n",
       "      <th></th>\n",
       "      <th>AVG_DISCOUNT</th>\n",
       "      <th>CREDIT_CARD_TYPE</th>\n",
       "    </tr>\n",
       "  </thead>\n",
       "  <tbody>\n",
       "    <tr>\n",
       "      <th>11</th>\n",
       "      <td>0.62</td>\n",
       "      <td>china-unionpay</td>\n",
       "    </tr>\n",
       "    <tr>\n",
       "      <th>12</th>\n",
       "      <td>0.62</td>\n",
       "      <td>maestro</td>\n",
       "    </tr>\n",
       "    <tr>\n",
       "      <th>13</th>\n",
       "      <td>0.62</td>\n",
       "      <td>instapayment</td>\n",
       "    </tr>\n",
       "    <tr>\n",
       "      <th>14</th>\n",
       "      <td>0.63</td>\n",
       "      <td>mastercard</td>\n",
       "    </tr>\n",
       "    <tr>\n",
       "      <th>15</th>\n",
       "      <td>0.64</td>\n",
       "      <td>laser</td>\n",
       "    </tr>\n",
       "  </tbody>\n",
       "</table>\n",
       "</div>"
      ],
      "text/plain": [
       "    AVG_DISCOUNT CREDIT_CARD_TYPE\n",
       "11          0.62   china-unionpay\n",
       "12          0.62          maestro\n",
       "13          0.62     instapayment\n",
       "14          0.63       mastercard\n",
       "15          0.64            laser"
      ]
     },
     "execution_count": 165,
     "metadata": {},
     "output_type": "execute_result"
    }
   ],
   "source": [
    "#importing dataset for question 9\n",
    "query9_df=pd.read_csv('/Users/adityaravindrabhat/Desktop/PGP_UTAustin/SQL/Project/Query_Datasets/query9.csv')\n",
    "query9_df.sort_values(by=['AVG_DISCOUNT'],inplace=True,ignore_index=True)\n",
    "query9_df.tail()"
   ]
  },
  {
   "cell_type": "code",
   "execution_count": 163,
   "id": "3d600bb3-18b6-4bdd-b575-ace19d80ecc1",
   "metadata": {},
   "outputs": [
    {
     "data": {
      "image/png": "[encoded data removed]",
      "text/plain": [
       "<Figure size 360x360 with 1 Axes>"
      ]
     },
     "metadata": {
      "needs_background": "light"
     },
     "output_type": "display_data"
    }
   ],
   "source": [
    "#catplot to visualize average discount per credit card type\n",
    "sns.catplot(data=query9_df, x='CREDIT_CARD_TYPE',y='AVG_DISCOUNT',kind='point')\n",
    "plt.xlabel('Credit Card Type')\n",
    "plt.ylabel('Average discount')\n",
    "plt.xticks(rotation=90);"
   ]
  },
  {
   "cell_type": "markdown",
   "id": "acd26e8e-1d3a-41bc-a73b-62e4b57376dd",
   "metadata": {},
   "source": [
    "### Question 10"
   ]
  },
  {
   "cell_type": "code",
   "execution_count": 34,
   "id": "435afc78-dd80-4997-85f0-820a652de67e",
   "metadata": {},
   "outputs": [
    {
     "data": {
      "text/html": [
       "<div>\n",
       "<style scoped>\n",
       "    .dataframe tbody tr th:only-of-type {\n",
       "        vertical-align: middle;\n",
       "    }\n",
       "\n",
       "    .dataframe tbody tr th {\n",
       "        vertical-align: top;\n",
       "    }\n",
       "\n",
       "    .dataframe thead th {\n",
       "        text-align: right;\n",
       "    }\n",
       "</style>\n",
       "<table border=\"1\" class=\"dataframe\">\n",
       "  <thead>\n",
       "    <tr style=\"text-align: right;\">\n",
       "      <th></th>\n",
       "      <th>QUARTER_NUMBER</th>\n",
       "      <th>AVG_SHIP_DAYS</th>\n",
       "    </tr>\n",
       "  </thead>\n",
       "  <tbody>\n",
       "    <tr>\n",
       "      <th>0</th>\n",
       "      <td>1</td>\n",
       "      <td>57.1677</td>\n",
       "    </tr>\n",
       "    <tr>\n",
       "      <th>1</th>\n",
       "      <td>2</td>\n",
       "      <td>71.1107</td>\n",
       "    </tr>\n",
       "    <tr>\n",
       "      <th>2</th>\n",
       "      <td>3</td>\n",
       "      <td>117.7555</td>\n",
       "    </tr>\n",
       "    <tr>\n",
       "      <th>3</th>\n",
       "      <td>4</td>\n",
       "      <td>174.0955</td>\n",
       "    </tr>\n",
       "  </tbody>\n",
       "</table>\n",
       "</div>"
      ],
      "text/plain": [
       "   QUARTER_NUMBER  AVG_SHIP_DAYS\n",
       "0               1        57.1677\n",
       "1               2        71.1107\n",
       "2               3       117.7555\n",
       "3               4       174.0955"
      ]
     },
     "execution_count": 34,
     "metadata": {},
     "output_type": "execute_result"
    }
   ],
   "source": [
    "#importing dataset for question 10\n",
    "query10_df=pd.read_csv('/Users/adityaravindrabhat/Desktop/PGP_UTAustin/SQL/Project/Query_Datasets/query10.csv')\n",
    "query10_df.head()"
   ]
  },
  {
   "cell_type": "code",
   "execution_count": 120,
   "id": "6548bb05-2cab-42bb-bbea-cc181b3dab8b",
   "metadata": {},
   "outputs": [
    {
     "data": {
      "text/plain": [
       "105.03235000000001"
      ]
     },
     "execution_count": 120,
     "metadata": {},
     "output_type": "execute_result"
    }
   ],
   "source": [
    "#Calculating the average days to ship across quarters\n",
    "sum(query10_df['AVG_SHIP_DAYS'])/4"
   ]
  },
  {
   "cell_type": "code",
   "execution_count": 166,
   "id": "c5bef307-c088-4954-acee-a4e03573528a",
   "metadata": {},
   "outputs": [
    {
     "data": {
      "image/png": "[encoded data removed]",
      "text/plain": [
       "<Figure size 360x360 with 1 Axes>"
      ]
     },
     "metadata": {
      "needs_background": "light"
     },
     "output_type": "display_data"
    }
   ],
   "source": [
    "#Barplot to visualize the average shipping days for each quarter\n",
    "sns.catplot(data=query10_df, x='QUARTER_NUMBER', y='AVG_SHIP_DAYS',kind='bar')\n",
    "plt.xlabel('Average shipping days')\n",
    "plt.ylabel('Quarter Number');"
   ]
  }
 ],
 "metadata": {
  "kernelspec": {
   "display_name": "Python 3",
   "language": "python",
   "name": "python3"
  },
  "language_info": {
   "codemirror_mode": {
    "name": "ipython",
    "version": 3
   },
   "file_extension": ".py",
   "mimetype": "text/x-python",
   "name": "python",
   "nbconvert_exporter": "python",
   "pygments_lexer": "ipython3",
   "version": "3.8.8"
  }
 },
 "nbformat": 4,
 "nbformat_minor": 5
}
